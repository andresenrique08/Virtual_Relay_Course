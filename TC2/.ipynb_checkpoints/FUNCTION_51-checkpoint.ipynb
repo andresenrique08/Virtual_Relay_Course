{
 "cells": [
  {
   "cell_type": "code",
   "execution_count": 5,
   "metadata": {},
   "outputs": [],
   "source": [
    "import numpy as np\n",
    "import matplotlib.pyplot as plt"
   ]
  },
  {
   "cell_type": "raw",
   "metadata": {},
   "source": [
    "# CURVE\n",
    "\n",
    "#Define la característica de la curva a utilizar. Se utiliza la norma IEC 60255 por lo que solo hay 4 posibilidades: SI,VI,EI LS \n"
   ]
  },
  {
   "cell_type": "code",
   "execution_count": 15,
   "metadata": {},
   "outputs": [],
   "source": [
    "def Curve(self,Ip,Td, Indice=0,Alpha=0,Beta=0,*name):\n",
    "        # indice: indica el método de la curva\n",
    "        # '1', Standard Inverse (IEC)           \n",
    "        # '2', Very Inverse (IEC)               \n",
    "        # '3', Extremely Inverse (IEC)          \n",
    "        # '4', Long Time Standard (IEC)   \n",
    "        # Ip, Pickup current\n",
    "        # Td, TMS: time multiplier setting\n",
    "        if Indice <= 11:\n",
    "            method_name = 'curve_' + str(Indice)\n",
    "            method = getattr(self, method_name, lambda: 'Invalid')\n",
    "            [a, b] = method()\n",
    "            self.__curveName = a\n",
    "            self.__alpha = b[0]\n",
    "            self.__beta = b[1]\n",
    "\n",
    "        else:\n",
    "            self.__curveName = name\n",
    "            self.__beta = Beta\n",
    "            self.__alpha = Alpha\n",
    "            self.__ip = Ip  # Pickup current\n",
    "            self.__td = Td  # Time\n",
    "            \n",
    "        # name, beta, alpha\n",
    "        def curve_1(self):  # '1', Standard Inverse (IEC)\n",
    "            return ['Standard Inverse (IEC)', [0.14, 0.02]]\n",
    "\n",
    "        def curve_2(self):  # '2', Very Inverse (IEC)\n",
    "            return ['Very Inverse (IEC)', [13.5, 1]]\n",
    "\n",
    "        def curve_3(self):  # '3', Extremely Inverse (IEC)\n",
    "            return ['Extremely Inverse (IEC)', [80, 2]]\n",
    "\n",
    "        def curve_4(self):  # '4', Long Time Standard (IEC)\n",
    "            return ['Long Time Standard (IEC)', [120, 1]]\n",
    "        \n",
    "        def mathCurve(self, I_measured):\n",
    "            return  self.__td * (self.__beta / (np.power((I_measured / self.__ip), self.__alpha) - 1)) * 1000  # ms\n",
    "        \n",
    "        def graficar(self):\n",
    "            I = np.linspace(1, 1000, 1000)\n",
    "            T = self.mathCurve(I)\n",
    "            print(np.size(T))\n",
    "            # Add a legend\n",
    "            plt.loglog(I, T)\n",
    "            plt.grid(True, which=\"both\", ls=\"-\")\n",
    "            plt.legend('TC curve')\n",
    "            plt.xlabel('I')\n",
    "            plt.ylabel('T')\n",
    "            plt.title('Curva TC')\n",
    "            # Show the plot\n",
    "        "
   ]
  },
  {
   "cell_type": "raw",
   "metadata": {},
   "source": [
    "# STATES\n",
    "\n",
    "# se mueve entre los tres estados: Normal, Stand By y Lock Out dependiendo de la corriente de falla y los tiempos"
   ]
  },
  {
   "cell_type": "code",
   "execution_count": 16,
   "metadata": {},
   "outputs": [],
   "source": [
    "def States(self, T_spam, I_pick, Td, CurveDelay, Index=1, Alpha=0.02, Beta=0.14, *name):\n",
    "    self._curve= Curve(I_pick, Td, Index, Alpha, Beta, name) \n",
    "    self.__timeEl = 0  # time elapsed in seconds\n",
    "    self.__sampleTime = T_spam  # sample time in seconds\n",
    "    self.__iPick = I_pick  # Pick up current in Amperes\n",
    "    self.__delayCurve = CurveDelay  # seconds\n",
    "    \n",
    "    def __avanceTiempo(self):\n",
    "        self.__timeEl = self.__timeEl + self.__sampleTime\n",
    "    \n",
    "    def __restartCounter(self):\n",
    "        self.__timeEl = 0\n",
    "    \n",
    "    def __checkCurrent(self, I_measured):\n",
    "        if abs(1000*I_measured) > self.__iPick:\n",
    "            #Detectó una falla\n",
    "            self.__addTime()\n",
    "        else:\n",
    "            #No detectó\n",
    "            self.__restartCounter()\n",
    "    \n",
    "    def Status(self, I_measured):\n",
    "        #####List of messages####\n",
    "        # return 0, if 'Normal' state\n",
    "        # return 1, if 'Stand By' state\n",
    "        # return 2, if 'Lock out' state\n",
    "        msg = 0\n",
    "        self.__checkCurrent(I_measured)\n",
    "        if self.__iPick < 1000 * abs(I_measured):\n",
    "            # Detectó una falla, calculó el tiempo con la función Curve y le sumó el delay\n",
    "            tCut = self.__curve.mathCurve(1000 * abs(I_measured)) + self.__delayCurve  # miliseconds\n",
    "            if self.__timeEl >= tCut:\n",
    "                # Si el tiempo actual es mayor al calculado--> Lock out\n",
    "                msg = 2\n",
    "            else:\n",
    "                msg = 1\n",
    "        return msg"
   ]
  },
  {
   "cell_type": "code",
   "execution_count": null,
   "metadata": {},
   "outputs": [],
   "source": []
  }
 ],
 "metadata": {
  "kernelspec": {
   "display_name": "Python 3",
   "language": "python",
   "name": "python3"
  },
  "language_info": {
   "codemirror_mode": {
    "name": "ipython",
    "version": 3
   },
   "file_extension": ".py",
   "mimetype": "text/x-python",
   "name": "python",
   "nbconvert_exporter": "python",
   "pygments_lexer": "ipython3",
   "version": "3.8.3"
  }
 },
 "nbformat": 4,
 "nbformat_minor": 4
}
