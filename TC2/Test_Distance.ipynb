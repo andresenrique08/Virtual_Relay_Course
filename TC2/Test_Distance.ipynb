{
 "cells": [
  {
   "cell_type": "code",
   "execution_count": 2,
   "metadata": {},
   "outputs": [],
   "source": [
    "# Se cargan las librerias\n",
    "import numpy as np\n",
    "from matplotlib import pyplot as plt\n",
    "\n",
    "# importing \"cmath\" for complex number operations \n",
    "import cmath "
   ]
  },
  {
   "cell_type": "markdown",
   "metadata": {},
   "source": [
    "Se define la función para pasar de polares a cartesianos"
   ]
  },
  {
   "cell_type": "code",
   "execution_count": 17,
   "metadata": {},
   "outputs": [],
   "source": [
    "def zones_plot(Z1L, zone1, zone2, Z):\n",
    "    r_1L, th_1L = cmath.polar(Z1L)\n",
    "    r , th = cmath.polar(Z)\n",
    "    fig, ax = plt.subplots(1, 1, figsize =(6, 6))\n",
    "    fig.suptitle('Diagrama de impedancia para relé de característica Mho', y=0.95, fontsize=16)\n",
    "    \n",
    "    r1=r_1L*zone1\n",
    "    r2=r_1L*zone2\n",
    "    #theta = np.linspace(0, 2*np.pi, 360)\n",
    "    #x1 = r*np.cos(theta)\n",
    "    #x2 = r*np.sin(theta)\n",
    "    \n",
    "    #ax.plot(x1,x2,'k--')\n",
    "    \n",
    "    # Creando el punto de origen para los vectores\n",
    "    x_pos = [0, 0,0] \n",
    "    y_pos = [0, 0,0]\n",
    "    \n",
    "    x_Z1L = Z1L.real\n",
    "    y_Z1L = Z1L.imag\n",
    "    \n",
    "    x_Z = Z.real\n",
    "    y_Z = Z.imag\n",
    "    \n",
    "    ax.set(xlim=(-r1*2, r1*2), ylim = (-r1*2, r1*2))\n",
    "\n",
    "    a_circle = plt.Circle((x_Z1L*zone1/2, y_Z1L*zone1/2), r1/2, fill = False, linestyle= '--', edgecolor = 'r')\n",
    "    ax.add_artist(a_circle)\n",
    "    \n",
    "    a_circle2 = plt.Circle((x_Z1L*zone2/2, y_Z1L*zone2/2), r2/2, fill = False, linestyle= '--', edgecolor = 'g')\n",
    "    ax.add_artist(a_circle2)\n",
    "    \n",
    "    ax.quiver(x_pos, y_pos, x_Z1L, y_Z1L, angles='xy', scale_units = 'xy', scale=1, color=['k'], label=r'$Z_{Line}$')\n",
    "    #ax.quiver(x_pos, y_pos, x_Z, y_Z, angles='xy', scale_units = 'xy', scale=1, color=['b'], label=r'$\\bar{Z}$')\n",
    "    ax.plot(x_Z, y_Z, 'b*', label=r'$\\bar{Z}_{Load}$')\n",
    "    \n",
    "    plt.text(-r_1L/10, r_1L*zone1+r_1L/10, r'$Z_1$', {'color': 'red', 'fontsize': 12}, rotation=0, horizontalalignment='center', verticalalignment='top',\n",
    "         multialignment='center')\n",
    "    plt.text(-r_1L/10, r_1L*zone2+r_1L/10, r'$Z_2$', {'color': 'green', 'fontsize': 12}, rotation=0, horizontalalignment='center', verticalalignment='top',\n",
    "         multialignment='center')\n",
    "    \n",
    "    #Create broken lines\n",
    "    x=np.linspace(start=-r1*2,stop=r1*2,num=30)\n",
    "    plt.scatter(x,[0]*len(x), marker='_',color='k')\n",
    "    plt.scatter([0]*len(x), x, marker='|',color='k')\n",
    "    \n",
    "    plt.xlabel('R')\n",
    "    plt.ylabel('X')\n",
    "    plt.legend()"
   ]
  },
  {
   "cell_type": "code",
   "execution_count": 18,
   "metadata": {},
   "outputs": [
    {
     "data": {
      "image/png": "[encoded data removed]",
      "text/plain": [
       "<Figure size 432x432 with 1 Axes>"
      ]
     },
     "metadata": {
      "needs_background": "light"
     },
     "output_type": "display_data"
    }
   ],
   "source": [
    "# Inicializando la data\n",
    "L = 45 # Line Total Length \n",
    "R1L = 0.0924 #[ohm/mille]\n",
    "X1L = 0.649 #[ohm/mille]\n",
    "R0L = 0.0924 #[ohm/mille]\n",
    "X0L = 0.649 #[ohm/mille\n",
    "\n",
    "Z1L = complex(R1L*L, X1L*L)\n",
    "Z0L = complex(R0L*L, X0L*L)\n",
    "Z = cmath.rect(46.15776847,2.7818296)\n",
    "#print(phase(Z))\n",
    "zone1= 0.8\n",
    "zone2=1.2\n",
    "zones_plot(Z1L, zone1, zone2, Z)"
   ]
  },
  {
   "cell_type": "code",
   "execution_count": 49,
   "metadata": {},
   "outputs": [
    {
     "ename": "AttributeError",
     "evalue": "module 'cmath' has no attribute 'real'",
     "output_type": "error",
     "traceback": [
      "\u001b[1;31m---------------------------------------------------------------------------\u001b[0m",
      "\u001b[1;31mAttributeError\u001b[0m                            Traceback (most recent call last)",
      "\u001b[1;32m<ipython-input-49-8635a64e0baa>\u001b[0m in \u001b[0;36m<module>\u001b[1;34m\u001b[0m\n\u001b[0;32m     14\u001b[0m \u001b[1;33m\u001b[0m\u001b[0m\n\u001b[0;32m     15\u001b[0m \u001b[1;31m# printing phase of a complex number using pha\u001b[0m\u001b[1;33m\u001b[0m\u001b[1;33m\u001b[0m\u001b[1;33m\u001b[0m\u001b[0m\n\u001b[1;32m---> 16\u001b[1;33m \u001b[0mr\u001b[0m\u001b[1;33m,\u001b[0m\u001b[0mt\u001b[0m\u001b[1;33m=\u001b[0m\u001b[0mcmath\u001b[0m\u001b[1;33m.\u001b[0m\u001b[0mreal\u001b[0m\u001b[1;33m(\u001b[0m\u001b[0mz\u001b[0m\u001b[1;33m)\u001b[0m\u001b[1;33m\u001b[0m\u001b[1;33m\u001b[0m\u001b[0m\n\u001b[0m\u001b[0;32m     17\u001b[0m \u001b[0mprint\u001b[0m\u001b[1;33m(\u001b[0m\u001b[0mr\u001b[0m\u001b[1;33m)\u001b[0m\u001b[1;33m\u001b[0m\u001b[1;33m\u001b[0m\u001b[0m\n",
      "\u001b[1;31mAttributeError\u001b[0m: module 'cmath' has no attribute 'real'"
     ]
    }
   ],
   "source": [
    "# Python code to demonstrate the working of \n",
    "# phase() \n",
    "  \n",
    "# importing \"cmath\" for complex number operations \n",
    "#import cmath \n",
    "  \n",
    "# Initializing real numbers \n",
    "x = -1.0\n",
    "y = 0.0\n",
    "  \n",
    "# converting x and y into complex number \n",
    "z = 1+1j \n",
    "y= 1 + 2j\n",
    "  \n",
    "# printing phase of a complex number using pha\n",
    "r,t=cmath.real(z)\n",
    "print(r)"
   ]
  },
  {
   "cell_type": "code",
   "execution_count": 23,
   "metadata": {},
   "outputs": [
    {
     "data": {
      "text/plain": [
       "[<matplotlib.lines.Line2D at 0x2224bfbd040>]"
      ]
     },
     "execution_count": 23,
     "metadata": {},
     "output_type": "execute_result"
    },
    {
     "data": {
      "image/png": "[encoded data removed]",
      "text/plain": [
       "<Figure size 432x288 with 1 Axes>"
      ]
     },
     "metadata": {
      "needs_background": "light"
     },
     "output_type": "display_data"
    }
   ],
   "source": [
    "x1 = r*np.cos(theta)\n",
    "x2 = r*np.sin(theta)\n",
    "    \n",
    "plt.plot(x1,x2,'k--')"
   ]
  },
  {
   "cell_type": "code",
   "execution_count": 11,
   "metadata": {},
   "outputs": [
    {
     "data": {
      "text/plain": [
       "(1.4142135623730951, 0.7853981633974483)"
      ]
     },
     "execution_count": 11,
     "metadata": {},
     "output_type": "execute_result"
    }
   ],
   "source": [
    "x=z.real\n",
    "y=z.imag\n",
    "cart2pol(x, y)"
   ]
  },
  {
   "cell_type": "code",
   "execution_count": 15,
   "metadata": {},
   "outputs": [
    {
     "data": {
      "text/plain": [
       "(1.0000000000000002, 1.0000000000000002)"
      ]
     },
     "execution_count": 15,
     "metadata": {},
     "output_type": "execute_result"
    }
   ],
   "source": [
    "r = 1.4142135623730951\n",
    "theta = 0.7853981633974483\n",
    "pol2cart(r,theta)"
   ]
  },
  {
   "cell_type": "code",
   "execution_count": 39,
   "metadata": {},
   "outputs": [
    {
     "data": {
      "text/plain": [
       "<matplotlib.patches.Circle at 0x2224c1be910>"
      ]
     },
     "execution_count": 39,
     "metadata": {},
     "output_type": "execute_result"
    },
    {
     "data": {
      "image/png": "[encoded data removed]",
      "text/plain": [
       "<Figure size 432x432 with 1 Axes>"
      ]
     },
     "metadata": {
      "needs_background": "light"
     },
     "output_type": "display_data"
    }
   ],
   "source": [
    "fig, ax = plt.subplots(1, 1, figsize =(6, 6))\n",
    "#Set up the subplot for the circle\n",
    "\n",
    "ax.set(xlim=(-1, 1), ylim = (-1, 1))\n",
    "\n",
    "a_circle = plt.Circle((0, 0), .5, fill = False, linestyle= '--', edgecolor = 'k')\n",
    "ax.add_artist(a_circle)"
   ]
  }
 ],
 "metadata": {
  "kernelspec": {
   "display_name": "Python 3",
   "language": "python",
   "name": "python3"
  },
  "language_info": {
   "codemirror_mode": {
    "name": "ipython",
    "version": 3
   },
   "file_extension": ".py",
   "mimetype": "text/x-python",
   "name": "python",
   "nbconvert_exporter": "python",
   "pygments_lexer": "ipython3",
   "version": "3.8.3"
  }
 },
 "nbformat": 4,
 "nbformat_minor": 4
}
