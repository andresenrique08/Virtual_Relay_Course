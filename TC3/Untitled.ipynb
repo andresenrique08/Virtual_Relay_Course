{
 "cells": [
  {
   "cell_type": "code",
   "execution_count": 258,
   "metadata": {},
   "outputs": [],
   "source": [
    "from scipy.signal import butter, filtfilt\n",
    "import numpy as np\n",
    "from scipy import signal, fftpack\n",
    "from matplotlib import pyplot as plt\n",
    "from scipy.io import loadmat\n",
    "import cmath\n",
    "import pandas as pd\n",
    "from IPython.display import display\n",
    "import math\n",
    "\n"
   ]
  },
  {
   "cell_type": "code",
   "execution_count": null,
   "metadata": {},
   "outputs": [],
   "source": [
    "# ARCHIVO .mat\n",
    "# Este archivo debe tener un registro de al menos 0.7 segundos después de la generación de la falla\n",
    "mat = loadmat('prueba hands on.mat') # El archivo se selecciona desde la interfaz"
   ]
  },
  {
   "cell_type": "code",
   "execution_count": null,
   "metadata": {},
   "outputs": [],
   "source": [
    "def butter_highpass(cutoff, fs, order=5):\n",
    "    nyq = 0.5 * fs\n",
    "    normal_cutoff = cutoff / nyq\n",
    "    b, a = butter(order, normal_cutoff, btype='high', analog=False)\n",
    "    return b, a\n",
    "\n",
    "def butter_highpass_filter(data, cutoff, fs, order=5):\n",
    "    b, a = butter_highpass(cutoff, fs, order=order)\n",
    "    y = filtfilt(b, a, data)\n",
    "    return y\n",
    "\n",
    "rawdata = np.loadtxt('sampleSignal.txt', skiprows=0)\n",
    "signal = rawdata\n",
    "fs = 100000.0\n",
    "\n",
    "cutoff = 100\n",
    "order = 6\n",
    "conditioned_signal = butter_highpass_filter(signal, cutoff, fs, order)"
   ]
  },
  {
   "cell_type": "code",
   "execution_count": null,
   "metadata": {},
   "outputs": [],
   "source": []
  },
  {
   "cell_type": "code",
   "execution_count": 257,
   "metadata": {},
   "outputs": [
    {
     "name": "stdout",
     "output_type": "stream",
     "text": [
      "Record has 300001 samples\n",
      "Sampling rate is 1000000 samples/sec.\n"
     ]
    },
    {
     "ename": "KeyError",
     "evalue": "'iCt3a'",
     "output_type": "error",
     "traceback": [
      "\u001b[1;31m---------------------------------------------------------------------------\u001b[0m",
      "\u001b[1;31mKeyError\u001b[0m                                  Traceback (most recent call last)",
      "\u001b[1;32m<ipython-input-257-268e76d8abd1>\u001b[0m in \u001b[0;36m<module>\u001b[1;34m\u001b[0m\n\u001b[0;32m     26\u001b[0m     \u001b[0mcurrents_bus1\u001b[0m\u001b[1;33m[\u001b[0m\u001b[1;33m:\u001b[0m\u001b[1;33m,\u001b[0m\u001b[0mcol\u001b[0m\u001b[1;33m]\u001b[0m \u001b[1;33m=\u001b[0m \u001b[0mmat\u001b[0m\u001b[1;33m[\u001b[0m\u001b[1;34m'iCt1'\u001b[0m\u001b[1;33m+\u001b[0m\u001b[0mi\u001b[0m\u001b[1;33m]\u001b[0m\u001b[1;33m.\u001b[0m\u001b[0mravel\u001b[0m\u001b[1;33m(\u001b[0m\u001b[1;33m)\u001b[0m\u001b[1;33m\u001b[0m\u001b[1;33m\u001b[0m\u001b[0m\n\u001b[0;32m     27\u001b[0m     \u001b[0mcurrents_bus2\u001b[0m\u001b[1;33m[\u001b[0m\u001b[1;33m:\u001b[0m\u001b[1;33m,\u001b[0m\u001b[0mcol\u001b[0m\u001b[1;33m]\u001b[0m \u001b[1;33m=\u001b[0m \u001b[0mmat\u001b[0m\u001b[1;33m[\u001b[0m\u001b[1;34m'iCt2'\u001b[0m\u001b[1;33m+\u001b[0m\u001b[0mi\u001b[0m\u001b[1;33m]\u001b[0m\u001b[1;33m.\u001b[0m\u001b[0mravel\u001b[0m\u001b[1;33m(\u001b[0m\u001b[1;33m)\u001b[0m\u001b[1;33m\u001b[0m\u001b[1;33m\u001b[0m\u001b[0m\n\u001b[1;32m---> 28\u001b[1;33m     \u001b[0mcurrents_bus3\u001b[0m\u001b[1;33m[\u001b[0m\u001b[1;33m:\u001b[0m\u001b[1;33m,\u001b[0m\u001b[0mcol\u001b[0m\u001b[1;33m]\u001b[0m \u001b[1;33m=\u001b[0m \u001b[0mmat\u001b[0m\u001b[1;33m[\u001b[0m\u001b[1;34m'iCt3'\u001b[0m\u001b[1;33m+\u001b[0m\u001b[0mi\u001b[0m\u001b[1;33m]\u001b[0m\u001b[1;33m.\u001b[0m\u001b[0mravel\u001b[0m\u001b[1;33m(\u001b[0m\u001b[1;33m)\u001b[0m\u001b[1;33m\u001b[0m\u001b[1;33m\u001b[0m\u001b[0m\n\u001b[0m\u001b[0;32m     29\u001b[0m     \u001b[0mcol\u001b[0m\u001b[1;33m=\u001b[0m\u001b[0mcol\u001b[0m\u001b[1;33m+\u001b[0m\u001b[1;36m1\u001b[0m\u001b[1;33m\u001b[0m\u001b[1;33m\u001b[0m\u001b[0m\n\u001b[0;32m     30\u001b[0m \u001b[1;33m\u001b[0m\u001b[0m\n",
      "\u001b[1;31mKeyError\u001b[0m: 'iCt3a'"
     ]
    }
   ],
   "source": [
    "# Reading time vector:\n",
    "time = mat['t'] #Se conoce que todos los archivos vendrán con este vector incluido\n",
    "\n",
    "N = len(time)\n",
    "fs = np.int(np.ceil(len(time)/time[-1])-4)\n",
    "\n",
    "print('Record has {} samples'.format(N))\n",
    "print('Sampling rate is {} samples/sec.'.format(fs))\n",
    "\n",
    "\n",
    "# Line frequency in Hz\n",
    "fk = 60 # It can be set automatically\n",
    "\n",
    "\n",
    "# Reading  currents\n",
    "\n",
    "currents_bus1 = np.empty(([len(time),3]))\n",
    "currents_bus2 = np.empty(([len(time),3]))\n",
    "currents_bus3 = np.empty(([len(time),3]))\n",
    "#voltages_bus2 = np.empty(([len(time),3]))\n",
    "\n",
    "\n",
    "col=0\n",
    "for i in ['a','b','c']:\n",
    "    \n",
    "    currents_bus1[:,col] = mat['iCt1'+i].ravel()\n",
    "    currents_bus2[:,col] = mat['iCt2'+i].ravel()\n",
    "    currents_bus3[:,col] = mat['iCt3'+i].ravel()\n",
    "    col=col+1\n",
    "    \n",
    "#measures = [voltages_bus1,currents_bus1,voltages_bus2,currents_bus2]\n",
    "#print(N_tot)\n",
    "measures = [currents_bus1,currents_bus2,currents_bus3]\n",
    "            \n",
    "f, axarr = plt.subplots(1,3, figsize =(16, 10))\n",
    "f.suptitle('Lectura del archivo .mat', y=0.97, fontsize=16)\n",
    "labels = ['Fase A', 'Fase B', 'Fase C']\n",
    "\n",
    "n_bus=1\n",
    "for i in range(len(measures)):\n",
    "    \n",
    "        p1 = 1\n",
    "        p2 = i\n",
    "        axarr[p2].set_title(('Corriente de bus '+str(n_bus)))\n",
    "        axarr[p2].set_ylabel('Corriente [A]')\n",
    "        \n",
    "        \n",
    "        axarr[p2].set_xlabel('Tiempo [seg]')\n",
    "        \n",
    "        axarr[p2].plot(time, measures[i][:,0], 'b-', label='Fase A')\n",
    "        axarr[p2].plot(time, measures[i][:,1], 'r-', label='Fase B')\n",
    "        axarr[p2].plot(time, measures[i][:,2], 'g-', label='Fase C')\n",
    "        \n",
    "        n_bus=n_bus+1\n",
    "        \n",
    "f.legend(axarr[1].get_lines(), labels, ncol=3, bbox_to_anchor=(0.54, 0.87))"
   ]
  },
  {
   "cell_type": "code",
   "execution_count": null,
   "metadata": {},
   "outputs": [],
   "source": [
    "#butter_highpass(cutoff, fs, order=5):"
   ]
  },
  {
   "cell_type": "code",
   "execution_count": null,
   "metadata": {},
   "outputs": [],
   "source": [
    "#agrupando las señales de cooriente en vectores individuales \n",
    "\n",
    "\n",
    "It1=np.empty(([len(time),3]))\n",
    "#It1=np.random.rand([len(time),3])\n",
    "It2=np.empty(([len(time),3]))\n",
    "It3=np.empty(([len(time),3]))\n",
    "\n",
    "It1=measures[:][0]\n",
    "It2=measures[:][1]\n",
    "It3=measures[:][2]\n",
    "\n",
    "\n",
    "            \n",
    "\n"
   ]
  },
  {
   "cell_type": "code",
   "execution_count": null,
   "metadata": {},
   "outputs": [],
   "source": [
    "#transformada de park\n",
    "def cke(B):\n",
    "    ck=[[2/3,-1/3,-1/3], [0,math.sqrt(3)/2, math.sqrt(3)/(-2)], [1/3,1/3 ,1/3]]\n",
    "    rb=len(B)\n",
    "    \n",
    "\n",
    "    C=np.empty([3,1])\n",
    "\n",
    "    C[0][0]=ck[0][0]*B[0]+ck[0][1]*B[1]+ck[0][2]*B[2]\n",
    "    C[1][0]=ck[1][0]*B[0]+ck[1][1]*B[1]+ck[1][2]*B[2]\n",
    "    C[2][0]=ck[2][0]*B[0]+ck[2][1]*B[1]+ck[2][2]*B[2]\n",
    "    return C\n",
    "\n",
    "\n"
   ]
  },
  {
   "cell_type": "code",
   "execution_count": null,
   "metadata": {},
   "outputs": [],
   "source": [
    "\n",
    "\n",
    "# transformada de clark en cada tiempo \n",
    "ckeT1=np.ones([3,len(time)])\n",
    "ckeT1=np.ones([3,len(time)])\n",
    "ckeT1=np.ones([3,len(time)])\n",
    "\n",
    "print(ckeT1.shape)\n",
    "print(cke(It1[0]).shape)\n",
    "\n",
    "for i in range(len(time)):\n",
    "   \n",
    "    ckeT1[:]=cke(It1[i])\n",
    "    ckeT2[:]=cke(It2[i])\n",
    "    ckeT3[:]=cke(It3[i])\n",
    "\n",
    "print(ckeT1.shape)"
   ]
  },
  {
   "cell_type": "code",
   "execution_count": null,
   "metadata": {},
   "outputs": [],
   "source": []
  },
  {
   "cell_type": "code",
   "execution_count": null,
   "metadata": {},
   "outputs": [],
   "source": []
  },
  {
   "cell_type": "code",
   "execution_count": null,
   "metadata": {},
   "outputs": [],
   "source": [
    "range(2)\n"
   ]
  },
  {
   "cell_type": "code",
   "execution_count": null,
   "metadata": {},
   "outputs": [],
   "source": []
  }
 ],
 "metadata": {
  "kernelspec": {
   "display_name": "Python 3",
   "language": "python",
   "name": "python3"
  },
  "language_info": {
   "codemirror_mode": {
    "name": "ipython",
    "version": 3
   },
   "file_extension": ".py",
   "mimetype": "text/x-python",
   "name": "python",
   "nbconvert_exporter": "python",
   "pygments_lexer": "ipython3",
   "version": "3.8.3"
  }
 },
 "nbformat": 4,
 "nbformat_minor": 4
}
