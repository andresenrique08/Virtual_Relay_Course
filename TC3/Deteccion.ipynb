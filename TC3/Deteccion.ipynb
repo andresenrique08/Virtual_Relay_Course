{
 "cells": [
  {
   "cell_type": "code",
   "execution_count": 1,
   "metadata": {},
   "outputs": [],
   "source": [
    "import numpy as np\n",
    "from scipy import signal, fftpack\n",
    "from matplotlib import pyplot as plt\n",
    "from scipy.io import loadmat\n",
    "import cmath \n",
    "import pandas as pd"
   ]
  },
  {
   "cell_type": "code",
   "execution_count": 2,
   "metadata": {},
   "outputs": [],
   "source": [
    "# ARCHIVO .mat\n",
    "# Este archivo debe tener un registro de al menos 0.7 segundos después de la generación de la falla\n",
    "mat = loadmat('Falla_AB_90%_001ohm.mat') # El archivo se selecciona desde la interfaz\n",
    "\n",
    "# NUMERO DE MUESTRAS POR CICLO (PARA EL SUBMUESTREO)\n",
    "fs_user_cycle = 32 # ESTA DATO VIENE DE LA INTERFAZ"
   ]
  },
  {
   "cell_type": "code",
   "execution_count": 3,
   "metadata": {},
   "outputs": [],
   "source": [
    "def subsampling(time,data,fs,fk,fs_user_cycle):\n",
    "    # time is the vector of time\n",
    "    # data is the vector with the signal\n",
    "    # fs_comtrade is the sample rate from the comtrade file\n",
    "    # fk is the frequency of the system\n",
    "    # fs_user_cycle is the sample rate given by user\n",
    "    N1 = fs_user_cycle\n",
    "    fs_cycle = fs/fk\n",
    "    N=np.int(fs_cycle)\n",
    "    N_tot = np.int(len(data)/fs_cycle)\n",
    "    new_data = [0]\n",
    "    new_time = [0]\n",
    "    for i in np.arange(N_tot):\n",
    "        xi=data[i*N:i*N+N]\n",
    "        ti=time[i*N:i*N+N]\n",
    "        new_data[i*N1:i*N1+N1] = signal.resample(xi, N1)\n",
    "        new_time[i*N1:i*N1+N1] = np.linspace(ti[0], ti[-1], N1, endpoint=False)\n",
    "        \n",
    "    return (new_time,new_data)"
   ]
  },
  {
   "cell_type": "code",
   "execution_count": 4,
   "metadata": {},
   "outputs": [],
   "source": [
    "def quantizer(data, quantizing_bits):\n",
    "    # data is the vector with the signal\n",
    "    # quantizing_bits is the number of bits for the converter\n",
    "    # Quantizer - S&H and ADC\n",
    "    quantizing_levels   = 2 ** quantizing_bits\n",
    "    quantizing_step     = (np.max(data)-np.min(data)) / quantizing_levels\n",
    "    quantizing_signal   = np.round (data / quantizing_step) * quantizing_step;\n",
    "    \n",
    "    return quantizing_signal"
   ]
  },
  {
   "cell_type": "code",
   "execution_count": 5,
   "metadata": {},
   "outputs": [],
   "source": [
    "def DFT(time, data, fk, fs_user_cycle):\n",
    "    # time is the vector of time\n",
    "    # data is the vector with the signal\n",
    "    # fk is the frequency of the system\n",
    "    # fs_user_cycle is the sample rate given by user\n",
    "    \n",
    "    N=np.int(fs_user_cycle)\n",
    "    N_tot = len(data)-N\n",
    "    Xc = [0]*N_tot\n",
    "    Xs = [0]*N_tot\n",
    "    t = [0]*N_tot\n",
    "    \n",
    "    # Ciclo para el ventaneo\n",
    "    for i in np.arange(N_tot):\n",
    "        xi=data[i:i+N]\n",
    "        t[i]=time[i]\n",
    "        Xc_sum = 0\n",
    "        Xs_sum = 0\n",
    "        # Ciclo para el filtro coseno\n",
    "        for k in np.arange(N):\n",
    "            Xc_temp=xi[k]*np.cos(2*np.pi*k/(N))\n",
    "            Xc_sum=Xc_sum+Xc_temp\n",
    "            Xs_temp=xi[k]*np.sin(2*np.pi*k/(N))\n",
    "            Xs_sum=Xs_sum+Xs_temp\n",
    "            \n",
    "        Xc[i]= 2/(N*np.sqrt(2))*Xc_sum\n",
    "        Xs[i]= -2/(N*np.sqrt(2))* Xs_sum\n",
    "        \n",
    "    return t, Xc, Xs"
   ]
  },
  {
   "cell_type": "code",
   "execution_count": 6,
   "metadata": {},
   "outputs": [
    {
     "name": "stdout",
     "output_type": "stream",
     "text": [
      "Record has 300001 samples\n",
      "Sampling rate is 1000000 samples/sec.\n"
     ]
    }
   ],
   "source": [
    "# Reading time vector:\n",
    "time = mat['t'] #Se conoce que todos los archivos vendrán con este vector incluido\n",
    "\n",
    "N = len(time)\n",
    "fs = np.int(np.ceil(len(time)/time[-1])-4)\n",
    "\n",
    "print('Record has {} samples'.format(N))\n",
    "print('Sampling rate is {} samples/sec.'.format(fs))\n",
    "\n",
    "\n",
    "# Line frequency in Hz\n",
    "fk = 60 # It can be set automatically\n",
    "\n",
    "\n",
    "# Reading voltaje and currents\n",
    "voltages_bus1 = np.empty(([len(time),3]))\n",
    "currents_bus1 = np.empty(([len(time),3]))\n",
    "\n",
    "col=0\n",
    "for i in ['a','b','c']:\n",
    "    voltages_bus1[:,col] = mat['vVt1'+i].ravel()\n",
    "    currents_bus1[:,col] = mat['iCt1'+i].ravel()\n",
    "    col=col+1"
   ]
  },
  {
   "cell_type": "code",
   "execution_count": 7,
   "metadata": {},
   "outputs": [],
   "source": [
    "# Subsampling voltaje and currents\n",
    "N_tot = np.int(N*fk/fs)*fs_user_cycle\n",
    "V_bus1_sub = np.empty(([N_tot,3]))\n",
    "I_bus1_sub = np.empty(([N_tot,3]))\n",
    "time_sub = np.empty(([N_tot,6]))\n",
    "for i in np.arange(6):\n",
    "    if i<3:\n",
    "        time_sub[:,i], V_bus1_sub[:,i] = subsampling(time,voltages_bus1[:,i],fs,fk,fs_user_cycle)\n",
    "    else:\n",
    "        time_sub[:,i], I_bus1_sub[:,i-3] = subsampling(time,currents_bus1[:,i-3],fs,fk,fs_user_cycle)"
   ]
  },
  {
   "cell_type": "code",
   "execution_count": 8,
   "metadata": {},
   "outputs": [],
   "source": [
    "quantizing_bits_V = 12 # Valor típico: 12 (Voltaje)\n",
    "quantizing_bits_I = 16 # Valor típico: 16 (Corriente)\n",
    "dig_V_bus1_sub = np.empty(([N_tot,3]))\n",
    "dig_I_bus1_sub = np.empty(([N_tot,3]))\n",
    "dig_V_bus2_sub = np.empty(([N_tot,3]))\n",
    "dig_I_bus2_sub = np.empty(([N_tot,3]))\n",
    "for i in np.arange(6):\n",
    "    if i<3:\n",
    "        dig_V_bus1_sub[:,i] = quantizer(V_bus1_sub[:,i], quantizing_bits_V)\n",
    "    else:\n",
    "        dig_I_bus1_sub[:,i-3] = quantizer(I_bus1_sub[:,i-3], quantizing_bits_I)"
   ]
  },
  {
   "cell_type": "code",
   "execution_count": 9,
   "metadata": {},
   "outputs": [],
   "source": [
    "N_tot_DFT = N_tot-fs_user_cycle\n",
    "Xc_bus1_V = np.empty(([N_tot_DFT,3]))\n",
    "Xs_bus1_V = np.empty(([N_tot_DFT,3]))\n",
    "Xc_bus1_I = np.empty(([N_tot_DFT,3]))\n",
    "Xs_bus1_I = np.empty(([N_tot_DFT,3]))\n",
    "X_bus1_V = np.empty(([N_tot_DFT,3]))\n",
    "Y_bus1_V = np.empty(([N_tot_DFT,3]))\n",
    "X_bus1_I = np.empty(([N_tot_DFT,3]))\n",
    "Y_bus1_I = np.empty(([N_tot_DFT,3]))\n",
    "t = np.empty(([N_tot_DFT,6]))\n",
    "\n",
    "for i in np.arange(6):\n",
    "    if i<3:\n",
    "        #BUS1\n",
    "        t[:,i], Xc_bus1_V[:,i], Xs_bus1_V[:,i] = DFT(time_sub[:,i], dig_V_bus1_sub[:,i], fk, fs_user_cycle)\n",
    "        for j in range(len(Xc_bus1_V)):\n",
    "            z_bus1_V = complex(Xc_bus1_V[j,i],Xs_bus1_V[j,i])\n",
    "            X_bus1_V[j,i], Y_bus1_V[j,i] = cmath.polar(z_bus1_V)\n",
    "            Y_bus1_V[j,i] = (Y_bus1_V[j,i])*180/np.pi\n",
    "            if Y_bus1_V[j,i] < 0:\n",
    "                Y_bus1_V[j,i] = 360 + Y_bus1_V[j,i]\n",
    "    else:\n",
    "        #BUS1\n",
    "        t[:,i], Xc_bus1_I[:,i-3], Xs_bus1_I[:,i-3] = DFT(time_sub[:,i], dig_I_bus1_sub[:,i-3], fk, fs_user_cycle)\n",
    "        for j in range(len(Xc_bus1_I)):\n",
    "            z_bus1_I = complex(Xc_bus1_I[j,i-3],Xs_bus1_I[j,i-3])\n",
    "            X_bus1_I[j,i-3], Y_bus1_I[j,i-3] = cmath.polar(z_bus1_I)\n",
    "            Y_bus1_I[j,i-3] = (Y_bus1_I[j,i-3])*180/np.pi\n",
    "            if Y_bus1_I[j,i-3] < 0:\n",
    "                Y_bus1_I[j,i-3] = 360 + Y_bus1_I[j,i-3]"
   ]
  },
  {
   "cell_type": "markdown",
   "metadata": {},
   "source": [
    "# Detección de falla"
   ]
  },
  {
   "cell_type": "code",
   "execution_count": 10,
   "metadata": {},
   "outputs": [
    {
     "name": "stdout",
     "output_type": "stream",
     "text": [
      "[0.000456]\n"
     ]
    }
   ],
   "source": [
    "pos_tf1=0\n",
    "for i in range(len(X_bus1_V)):\n",
    "    V_nom = 115/np.sqrt(3)\n",
    "    p = 0.8 #Criterio de comparación\n",
    "    phA = X_bus1_V[i,0]\n",
    "    phB = X_bus1_V[i,1]\n",
    "    phC = X_bus1_V[i,2]\n",
    "    if phA < V_nom*p or phB < V_nom*p or phC < V_nom*p:\n",
    "        pos_tf1=i\n",
    "        break\n",
    "\n",
    "pos_tf = pos_tf1+fs_user_cycle*5 # Se esperan 4 ciclos para determinar \n",
    "print(time[pos_tf])"
   ]
  },
  {
   "cell_type": "code",
   "execution_count": 11,
   "metadata": {},
   "outputs": [],
   "source": [
    "ph_falla = np.empty(([1,6]), dtype=complex)\n",
    "ph = ['A','B','C']\n",
    "for i in range(len(ph)):\n",
    "    ph_falla[0,i] = complex(Xc_bus1_V[pos_tf,i],Xs_bus1_V[pos_tf,i])\n",
    "    ph_falla[0,i+3] = complex(Xc_bus1_I[pos_tf,i],Xs_bus1_I[pos_tf,i])"
   ]
  },
  {
   "cell_type": "code",
   "execution_count": 12,
   "metadata": {},
   "outputs": [],
   "source": [
    "def seq_general(ph):\n",
    "    # Se usan las fases en valores rectangulares\n",
    "    phA = ph[0]\n",
    "    phB = ph[1]\n",
    "    phC = ph[2]\n",
    "    a = -0.5 + (np.sqrt(3)/2)*1j\n",
    "    s0=(phA+phB+phC)/3\n",
    "    s1=(phA+a*phB+a*a*phC)/3\n",
    "    s2=(phA+a*a*phB+a*phC)/3\n",
    "    #s = [s0, s1, s2]\n",
    "    return s0, s1, s2\n",
    "\n",
    "def seq_pos(s1):\n",
    "    a = -0.5 + (np.sqrt(3)/2)*1j\n",
    "    phA1 = s1\n",
    "    phB1 = a*a*s1\n",
    "    phC1 = a*s1\n",
    "    ph = [phA1, phB1, phC1]\n",
    "    return ph\n",
    "    \n",
    "def seq_neg(s2):\n",
    "    a = -0.5 + (np.sqrt(3)/2)*1j\n",
    "    phA2 = s2\n",
    "    phB2 = a*s2\n",
    "    phC2 = a*a*s2\n",
    "    ph = [phA2, phB2, phC2]\n",
    "    return ph"
   ]
  },
  {
   "cell_type": "code",
   "execution_count": 13,
   "metadata": {},
   "outputs": [],
   "source": [
    "# se crea las etiquetas para la comparación entre positiva y negativa\n",
    "def pos_neg():\n",
    "    etiqueta_pos_neg = [{'AG'},{'AB','ABG'},{'BG'},{'BC','BCG'},{'CG'},{'AC','ACG'}]\n",
    "\n",
    "    grupos_pos_neg = [set()]*12\n",
    "    fallas_pos_neg = np.empty(([12,2]))\n",
    "    c = 0\n",
    "    for i in range(len(fallas_pos_neg)):\n",
    "        if (i%2)==0:\n",
    "            grupos_pos_neg[i] = etiqueta_pos_neg[c] \n",
    "            if i==0:\n",
    "                fallas_pos_neg[i,0:2] = [340,20]\n",
    "            else:\n",
    "                fallas_pos_neg[i,0:2] = [fallas_pos_neg[i-1,1],fallas_pos_neg[i-1,1]+40]\n",
    "            c=c+1\n",
    "        else:\n",
    "            fallas_pos_neg[i,0:2] = [fallas_pos_neg[i-1,1],fallas_pos_neg[i-1,1]+20]\n",
    "            if c<len(etiqueta_pos_neg):\n",
    "                grupos_pos_neg[i] = etiqueta_pos_neg[c].union(grupos_pos_neg[i-1])\n",
    "            else:\n",
    "                grupos_pos_neg[i] = grupos_pos_neg[i-1].union(etiqueta_pos_neg[0])\n",
    "    return grupos_pos_neg, fallas_pos_neg"
   ]
  },
  {
   "cell_type": "code",
   "execution_count": 14,
   "metadata": {},
   "outputs": [],
   "source": [
    "# se crea las etiquetas para la comparación entre cero y negativa \n",
    "def cero_neg():\n",
    "    etiqueta_cero_neg = [{'AG','BCG'},{'CG','ABG'},{'BG','ACG'}]\n",
    "\n",
    "    grupos_cero_neg = [set()]*6\n",
    "    fallas_cero_neg = np.empty(([6,2]))\n",
    "    c = 0\n",
    "    for i in range(len(fallas_cero_neg)):\n",
    "        if (i%2)==0:\n",
    "            grupos_cero_neg[i] = etiqueta_cero_neg[c] \n",
    "            if i==0:\n",
    "                fallas_cero_neg[i,0:2] = [315,45]\n",
    "            else:\n",
    "                fallas_cero_neg[i,0:2] = [fallas_cero_neg[i-1,1],fallas_cero_neg[i-1,1]+90]\n",
    "            c=c+1\n",
    "        else:\n",
    "            fallas_cero_neg[i,0:2] = [fallas_cero_neg[i-1,1],fallas_cero_neg[i-1,1]+30]\n",
    "            if c<len(etiqueta_cero_neg):\n",
    "                grupos_cero_neg[i] = etiqueta_cero_neg[c].union(grupos_cero_neg[i-1])\n",
    "            else:\n",
    "                grupos_cero_neg[i] = grupos_cero_neg[i-1].union(etiqueta_cero_neg[0])\n",
    "    return grupos_cero_neg, fallas_cero_neg"
   ]
  },
  {
   "cell_type": "code",
   "execution_count": 15,
   "metadata": {},
   "outputs": [],
   "source": [
    "def tipo_falla(s0,s1,s2):\n",
    "    r0, th0 = cmath.polar(s0)\n",
    "    r1, th1 = cmath.polar(s1)\n",
    "    r2, th2 = cmath.polar(s2)\n",
    "    \n",
    "    grupos_pos_neg, fallas_pos_neg = pos_neg()\n",
    "    grupos_cero_neg, fallas_cero_neg = cero_neg()\n",
    "    if r2 < 0.25:\n",
    "        type_f={'ABC'}\n",
    "    else:\n",
    "        if r0 > 0.02:\n",
    "            grupo_mo = {'AG','BG','CG'}\n",
    "            # Verificación cero-negativa\n",
    "            th2_off = th2 - th0\n",
    "            th0_off = th0 - th0\n",
    "            des0 = (th2_off - th0_off)*180/np.pi\n",
    "            if des0<0: des0 = 360+des0\n",
    "            for i in range(len(fallas_cero_neg)):\n",
    "                if des0>340 or des0<=20:\n",
    "                    sel1=grupos_cero_neg[0]\n",
    "                elif i!=0 and des0>fallas_cero_neg[i,0] and des0<=fallas_cero_neg[i,1]:\n",
    "                    sel1=grupos_cero_neg[i]\n",
    "            # Verificacion positiva-negativa\n",
    "            th2_off = th2 - th1\n",
    "            th1_off = th1 - th1\n",
    "            des1 = (th2_off-th1_off)*180/np.pi\n",
    "            if des1<0: des1 = 360+des1\n",
    "            for i in range(len(fallas_pos_neg)):\n",
    "                if des1>340 or des1<=20:\n",
    "                    sel2=grupos_pos_neg[0]\n",
    "                elif i!=0 and des1>fallas_pos_neg[i,0] and des1<=fallas_pos_neg[i,1]:\n",
    "                    sel2=grupos_pos_neg[i]\n",
    "            type_f = sel1.intersection(sel2)\n",
    "            if type_f == set():\n",
    "                type_f = sel1.intersection(grupo_mo)\n",
    "        else:\n",
    "            grupo_bi = {'AB','BC','AC'}\n",
    "            th2_off = th2 - th1\n",
    "            th1_off = th1 - th1\n",
    "            des1 = (th2_off-th1_off)*180/np.pi\n",
    "            if des1<0: des1 = 360+des1\n",
    "            for i in range(len(fallas_pos_neg)):\n",
    "                if des1>340 or des1<=20:\n",
    "                    sel=(grupos_pos_neg[0])\n",
    "                elif i!=0 and des1>fallas_pos_neg[i,0] and des1<=fallas_pos_neg[i,1]:\n",
    "                    sel=(grupos_pos_neg[i])\n",
    "            type_f = sel.intersection(grupo_bi)\n",
    "    return type_f"
   ]
  },
  {
   "cell_type": "code",
   "execution_count": 16,
   "metadata": {},
   "outputs": [
    {
     "name": "stdout",
     "output_type": "stream",
     "text": [
      "3.0462946745940096\n"
     ]
    }
   ],
   "source": [
    "# Detección del tipo de falla\n",
    "ph_I = ph_falla[0,3:6]\n",
    "s0_I,s1_I,s2_I = seq_general(ph_I)\n",
    "print(abs(s2_I))\n",
    "tipo = tipo_falla(s0_I,s1_I,s2_I)"
   ]
  },
  {
   "cell_type": "code",
   "execution_count": 17,
   "metadata": {},
   "outputs": [
    {
     "data": {
      "text/plain": [
       "{'AB'}"
      ]
     },
     "execution_count": 17,
     "metadata": {},
     "output_type": "execute_result"
    }
   ],
   "source": [
    "tipo"
   ]
  }
 ],
 "metadata": {
  "kernelspec": {
   "display_name": "Python 3",
   "language": "python",
   "name": "python3"
  },
  "language_info": {
   "codemirror_mode": {
    "name": "ipython",
    "version": 3
   },
   "file_extension": ".py",
   "mimetype": "text/x-python",
   "name": "python",
   "nbconvert_exporter": "python",
   "pygments_lexer": "ipython3",
   "version": "3.8.3"
  }
 },
 "nbformat": 4,
 "nbformat_minor": 4
}
